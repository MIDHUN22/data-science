{
  "nbformat": 4,
  "nbformat_minor": 0,
  "metadata": {
    "colab": {
      "name": "exp2.ipynb",
      "provenance": [],
      "collapsed_sections": [],
      "authorship_tag": "ABX9TyPxsAYorROI1EX5ch92RMjv",
      "include_colab_link": true
    },
    "kernelspec": {
      "name": "python3",
      "display_name": "Python 3"
    },
    "language_info": {
      "name": "python"
    }
  },
  "cells": [
    {
      "cell_type": "markdown",
      "metadata": {
        "id": "view-in-github",
        "colab_type": "text"
      },
      "source": [
        "<a href=\"https://colab.research.google.com/github/MIDHUN22/data-science/blob/main/exp2.ipynb\" target=\"_parent\"><img src=\"https://colab.research.google.com/assets/colab-badge.svg\" alt=\"Open In Colab\"/></a>"
      ]
    },
    {
      "cell_type": "code",
      "metadata": {
        "id": "K40SjQ7Q52Eo"
      },
      "source": [
        "import numpy as np\n",
        "from timeit import Timer\n",
        "\n",
        "array = np.random.randint(1000,size=10**5)\n",
        "def sum_using_forloop():\n",
        "  sum_array=0\n",
        "  for element in array:\n",
        "    sum_array += element\n",
        "    \n",
        "def sum_using_builtin_method():\n",
        "  sum_array= sum(array)\n",
        "  \n",
        "def sum_using_numpy():\n",
        "  sum_array = np.sum(array)\n",
        "\n",
        "time_forloop = Timer(sum_using_forloop).timeit(1)\n",
        "time_builtin = Timer(sum_using_builtin_method).timeit(1)\n",
        "time_numpy = Timer(sum_using_numpy).timeit(1)\n",
        "\n",
        "print(time_forloop)\n",
        "print(time_builtin)\n",
        "print(time_numpy)\n",
        "print() \n",
        "   \n"
      ],
      "execution_count": null,
      "outputs": []
    },
    {
      "cell_type": "markdown",
      "metadata": {
        "id": "-BYGHBpxeVdb"
      },
      "source": [
        "sum ^"
      ]
    },
    {
      "cell_type": "code",
      "metadata": {
        "colab": {
          "base_uri": "https://localhost:8080/"
        },
        "id": "OijUjzhaW9bW",
        "outputId": "455a468d-68ac-410d-80bb-0650b7be8f51"
      },
      "source": [
        "import numpy as np\n",
        "a=[[1,0],[0,1]]\n",
        "b=[[4,1],[2,2]]\n",
        "np.dot(a,b)"
      ],
      "execution_count": 13,
      "outputs": [
        {
          "output_type": "execute_result",
          "data": {
            "text/plain": [
              "array([[4, 1],\n",
              "       [2, 2]])"
            ]
          },
          "metadata": {},
          "execution_count": 13
        }
      ]
    },
    {
      "cell_type": "markdown",
      "metadata": {
        "id": "LryVfqYzb074"
      },
      "source": [
        "dot product ^"
      ]
    },
    {
      "cell_type": "code",
      "metadata": {
        "colab": {
          "base_uri": "https://localhost:8080/"
        },
        "id": "_c4Lk0ZOcDWE",
        "outputId": "53da649d-fe98-4780-fd89-dfa3a9632489"
      },
      "source": [
        "import numpy as np\n",
        "\n",
        "matrix1 = np.array([[1,3],[2,6]])\n",
        "matrix2 = np.array([[0,1],[1,9]])\n",
        "\n",
        "print(\"original 2d matrix is:\")\n",
        "print(matrix1)\n",
        "print(matrix2)\n",
        "\n",
        "print(\"Outer Product of the two matrix is:\")\n",
        "result = np.outer(matrix1,matrix2)\n",
        "print(result)"
      ],
      "execution_count": 17,
      "outputs": [
        {
          "output_type": "stream",
          "name": "stdout",
          "text": [
            "original 2d matrix is:\n",
            "[[1 3]\n",
            " [2 6]]\n",
            "[[0 1]\n",
            " [1 9]]\n",
            "Outer Product of the two matrix is:\n",
            "[[ 0  1  1  9]\n",
            " [ 0  3  3 27]\n",
            " [ 0  2  2 18]\n",
            " [ 0  6  6 54]]\n"
          ]
        }
      ]
    },
    {
      "cell_type": "markdown",
      "metadata": {
        "id": "cptNuGPteG9A"
      },
      "source": [
        "outer product^"
      ]
    },
    {
      "cell_type": "code",
      "metadata": {
        "colab": {
          "base_uri": "https://localhost:8080/"
        },
        "id": "B9BYCe38ee8Z",
        "outputId": "2160aba6-3707-4ab5-c58f-b891f1c33032"
      },
      "source": [
        "import numpy as np\n",
        "\n",
        "in_arr1 = np. array([[2,7,5],[-6,2,0]])\n",
        "in_arr2 = np.array([[0,-7,8],[5,-2,9]])\n",
        "\n",
        "print(\"array 1 input:\", in_arr1)\n",
        "print(\"array 2 unput:\",in_arr2)\n",
        "\n",
        "out_arr = np.multiply(in_arr1, in_arr2)\n",
        "print(out_arr)"
      ],
      "execution_count": 20,
      "outputs": [
        {
          "output_type": "stream",
          "name": "stdout",
          "text": [
            "array 1 input: [[ 2  7  5]\n",
            " [-6  2  0]]\n",
            "array 2 unput: [[ 0 -7  8]\n",
            " [ 5 -2  9]]\n",
            "[[  0 -49  40]\n",
            " [-30  -4   0]]\n"
          ]
        }
      ]
    },
    {
      "cell_type": "markdown",
      "metadata": {
        "id": "pMPawynLiSFr"
      },
      "source": [
        "product^"
      ]
    }
  ]
}