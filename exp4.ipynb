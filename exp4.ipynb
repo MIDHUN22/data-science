{
  "nbformat": 4,
  "nbformat_minor": 0,
  "metadata": {
    "colab": {
      "name": "exp4.ipynb",
      "provenance": [],
      "authorship_tag": "ABX9TyNhSeVakiC+I7n2DxDewuFc",
      "include_colab_link": true
    },
    "kernelspec": {
      "name": "python3",
      "display_name": "Python 3"
    },
    "language_info": {
      "name": "python"
    }
  },
  "cells": [
    {
      "cell_type": "markdown",
      "metadata": {
        "id": "view-in-github",
        "colab_type": "text"
      },
      "source": [
        "<a href=\"https://colab.research.google.com/github/MIDHUN22/data-science/blob/main/exp4.ipynb\" target=\"_parent\"><img src=\"https://colab.research.google.com/assets/colab-badge.svg\" alt=\"Open In Colab\"/></a>"
      ]
    },
    {
      "cell_type": "code",
      "metadata": {
        "id": "UTgQNafbU41d"
      },
      "source": [
        "import matplotlib.pyplot as plt\n",
        "import numpy as np\n",
        "import seaborn as sns\n",
        "import pandas as pd\n",
        "from scipy import stats\n",
        "\n",
        "\n"
      ],
      "execution_count": 1,
      "outputs": []
    },
    {
      "cell_type": "code",
      "metadata": {
        "colab": {
          "base_uri": "https://localhost:8080/"
        },
        "id": "utuy9v7KYtos",
        "outputId": "6dc3b6cc-dfaa-4746-c1e6-6423f4b16e66"
      },
      "source": [
        "movies= pd.read_csv(\"IMDb movies.csv\")\n",
        "print(movies.head(5))"
      ],
      "execution_count": 6,
      "outputs": [
        {
          "output_type": "stream",
          "name": "stdout",
          "text": [
            "  imdb_title_id  ... reviews_from_critics\n",
            "0     tt0000009  ...                  2.0\n",
            "1     tt0000574  ...                  7.0\n",
            "2     tt0001892  ...                  2.0\n",
            "3     tt0002101  ...                  3.0\n",
            "4     tt0002130  ...                 14.0\n",
            "\n",
            "[5 rows x 22 columns]\n"
          ]
        },
        {
          "output_type": "stream",
          "name": "stderr",
          "text": [
            "/usr/local/lib/python3.7/dist-packages/IPython/core/interactiveshell.py:2718: DtypeWarning: Columns (3) have mixed types.Specify dtype option on import or set low_memory=False.\n",
            "  interactivity=interactivity, compiler=compiler, result=result)\n"
          ]
        }
      ]
    },
    {
      "cell_type": "code",
      "metadata": {
        "colab": {
          "base_uri": "https://localhost:8080/"
        },
        "id": "vlDh2KFUZFFp",
        "outputId": "9a25da0f-d2aa-4c4b-c742-2583aa678362"
      },
      "source": [
        "print(movies.describe)"
      ],
      "execution_count": 7,
      "outputs": [
        {
          "output_type": "stream",
          "name": "stdout",
          "text": [
            "<bound method NDFrame.describe of       imdb_title_id  ... reviews_from_critics\n",
            "0         tt0000009  ...                  2.0\n",
            "1         tt0000574  ...                  7.0\n",
            "2         tt0001892  ...                  2.0\n",
            "3         tt0002101  ...                  3.0\n",
            "4         tt0002130  ...                 14.0\n",
            "...             ...  ...                  ...\n",
            "85850     tt9908390  ...                  4.0\n",
            "85851     tt9911196  ...                  4.0\n",
            "85852     tt9911774  ...                  NaN\n",
            "85853     tt9914286  ...                  NaN\n",
            "85854     tt9914942  ...                  2.0\n",
            "\n",
            "[85855 rows x 22 columns]>\n"
          ]
        }
      ]
    }
  ]
}