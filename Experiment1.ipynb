{
  "nbformat": 4,
  "nbformat_minor": 0,
  "metadata": {
    "colab": {
      "name": "Experiment1.ipynb",
      "provenance": [],
      "collapsed_sections": [],
      "authorship_tag": "ABX9TyMvT65NOidiRlMEMx+i1FEn",
      "include_colab_link": true
    },
    "kernelspec": {
      "name": "python3",
      "display_name": "Python 3"
    },
    "language_info": {
      "name": "python"
    }
  },
  "cells": [
    {
      "cell_type": "markdown",
      "metadata": {
        "id": "view-in-github",
        "colab_type": "text"
      },
      "source": [
        "<a href=\"https://colab.research.google.com/github/MIDHUN22/data-science/blob/main/Experiment1.ipynb\" target=\"_parent\"><img src=\"https://colab.research.google.com/assets/colab-badge.svg\" alt=\"Open In Colab\"/></a>"
      ]
    },
    {
      "cell_type": "code",
      "metadata": {
        "colab": {
          "base_uri": "https://localhost:8080/"
        },
        "id": "K7JEcfPsaGYc",
        "outputId": "c8ae3570-d714-4d50-bd74-cf520acf1816"
      },
      "source": [
        "print (\"Prnt the data type using tpe() \")\n",
        "a = 1\n",
        "print(type(a))\n",
        "\n",
        "b=1.5\n",
        "print(type(b))\n",
        "\n",
        "c = 1 + 3j\n",
        "print(type(c))\n",
        "\n",
        "d= \"qwerty\"\n",
        "print(type(d))\n",
        "\n",
        "e = ['q,w,e,r,t,y']\n",
        "print(type(e))\n",
        "\n",
        "f = (\"this\",\"is\")\n",
        "print(type(f))\n",
        "\n",
        "print(type(True))\n",
        "\n",
        "g={1:\"hello\",2:\"world\"}\n",
        "print(type(g))"
      ],
      "execution_count": null,
      "outputs": [
        {
          "output_type": "stream",
          "name": "stdout",
          "text": [
            "Prnt the data type using tpe() \n",
            "<class 'int'>\n",
            "<class 'float'>\n",
            "<class 'complex'>\n",
            "<class 'str'>\n",
            "<class 'list'>\n",
            "<class 'tuple'>\n",
            "<class 'bool'>\n",
            "<class 'dict'>\n"
          ]
        }
      ]
    },
    {
      "cell_type": "markdown",
      "metadata": {
        "id": "sBc64wY1e33G"
      },
      "source": [
        "this is first ^"
      ]
    },
    {
      "cell_type": "markdown",
      "metadata": {
        "id": "_LWmL6EUVMHO"
      },
      "source": [
        "list\n"
      ]
    },
    {
      "cell_type": "code",
      "metadata": {
        "id": "RobQfHfwd0PK",
        "colab": {
          "base_uri": "https://localhost:8080/"
        },
        "outputId": "7ba987ee-d161-42ab-adf6-414779c26dba"
      },
      "source": [
        "list = [\"Hello\",\"World\",\"Python\"]\n",
        "print(\"list is\",list)\n",
        "print (list[0:2])\n",
        "print(list[-2])"
      ],
      "execution_count": null,
      "outputs": [
        {
          "output_type": "stream",
          "name": "stdout",
          "text": [
            "list is ['Hello', 'World', 'Python']\n",
            "['Hello', 'World']\n",
            "World\n"
          ]
        }
      ]
    },
    {
      "cell_type": "markdown",
      "metadata": {
        "id": "cI-csusRVlfK"
      },
      "source": [
        "DICTIONARY\n"
      ]
    },
    {
      "cell_type": "code",
      "metadata": {
        "colab": {
          "base_uri": "https://localhost:8080/"
        },
        "id": "pfrRsf4lVViS",
        "outputId": "841dfaa7-4946-4862-9baf-88554a080eb2"
      },
      "source": [
        "d={1:'HELLO',2:'WORLD',3:'PYTHON'}\n",
        "print(d)\n",
        "\n",
        "print(\"1st name is\"+d[1])\n",
        "print(\"2nd name is\"+d[3])\n",
        "\n",
        "print(d.keys())\n",
        "print(d.values())"
      ],
      "execution_count": null,
      "outputs": [
        {
          "output_type": "stream",
          "name": "stdout",
          "text": [
            "{1: 'HELLO', 2: 'WORLD', 3: 'PYTHON'}\n",
            "1st name isHELLO\n",
            "2nd name isPYTHON\n",
            "dict_keys([1, 2, 3])\n",
            "dict_values(['HELLO', 'WORLD', 'PYTHON'])\n"
          ]
        }
      ]
    },
    {
      "cell_type": "markdown",
      "metadata": {
        "id": "dWX4sJgvV20G"
      },
      "source": [
        "tuple"
      ]
    },
    {
      "cell_type": "code",
      "metadata": {
        "colab": {
          "base_uri": "https://localhost:8080/"
        },
        "id": "xZ0lDbN6V2Ie",
        "outputId": "1485d4f0-450c-4e2d-b178-ff64ab19f967"
      },
      "source": [
        "thistuple = (\"apple\", \"banana\", \"cherry\")\n",
        "print(thistuple)"
      ],
      "execution_count": null,
      "outputs": [
        {
          "output_type": "stream",
          "name": "stdout",
          "text": [
            "('apple', 'banana', 'cherry')\n"
          ]
        }
      ]
    },
    {
      "cell_type": "markdown",
      "metadata": {
        "id": "MvylHVAhWwxg"
      },
      "source": [
        "SET\n"
      ]
    },
    {
      "cell_type": "code",
      "source": [
        ""
      ],
      "metadata": {
        "id": "ZsyvEy_nZkhW"
      },
      "execution_count": null,
      "outputs": []
    },
    {
      "cell_type": "code",
      "metadata": {
        "colab": {
          "base_uri": "https://localhost:8080/"
        },
        "id": "gBkiCyx_Wyl9",
        "outputId": "0cf0d46f-58da-49ce-c57b-c2e7059d2115"
      },
      "source": [
        "thisset = {\"apple\", \"banana\", \"cherry\"}\n",
        "\n",
        "print(thisset)\n",
        "thisset.add(\"orange\")\n",
        "print(thisset)\n",
        "\n"
      ],
      "execution_count": null,
      "outputs": [
        {
          "output_type": "stream",
          "name": "stdout",
          "text": [
            "{'apple', 'banana', 'cherry'}\n",
            "{'orange', 'apple', 'banana', 'cherry'}\n"
          ]
        }
      ]
    },
    {
      "cell_type": "markdown",
      "source": [
        "function"
      ],
      "metadata": {
        "id": "fLbSvgWKEfBX"
      }
    },
    {
      "cell_type": "code",
      "source": [
        "#function\n",
        "def refact(n):  \n",
        "   if n == 1:  \n",
        "       return n  \n",
        "   else:  \n",
        "       return n*refact(n-1)  \n",
        "\n",
        "num = int(7)  \n",
        "\n",
        "if num < 0:  \n",
        "   print(\"Sorry, factorial does not exist for negative numbers\")  \n",
        "elif num == 0:  \n",
        "   print(\"The factorial of 0 is 1\")  \n",
        "else:  \n",
        "   print(\"The factorial of\",num,\"is\",refact(num))  "
      ],
      "metadata": {
        "colab": {
          "base_uri": "https://localhost:8080/"
        },
        "id": "A2bf1OJZJOzM",
        "outputId": "dfd9cc79-e63a-4cd2-fb57-674461e74cf8"
      },
      "execution_count": 1,
      "outputs": [
        {
          "output_type": "stream",
          "name": "stdout",
          "text": [
            "The factorial of 7 is 5040\n"
          ]
        }
      ]
    }
  ]
}